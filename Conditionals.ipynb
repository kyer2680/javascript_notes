{
 "cells": [
  {
   "cell_type": "markdown",
   "id": "442f8c49-0343-4f84-8ace-866a3d80a96f",
   "metadata": {},
   "source": [
    "# __Conditional Statements In Javascript__\n",
    "***"
   ]
  },
  {
   "cell_type": "markdown",
   "id": "50856a08-d5c1-4d2c-8b9d-1c4bb114f6b9",
   "metadata": {},
   "source": [
    "Documentation located here."
   ]
  },
  {
   "cell_type": "markdown",
   "id": "4352a20f-b6a0-4899-977a-82ad0bf010f2",
   "metadata": {},
   "source": [
    "__Conditional Statements:__ Conditional statements, also known as control flow statements, allow a program to make decisions and execute different blocks of code based on whether a certain condition is true or false. These conditions are evaluated to _boolean values_, which are either true or false.. These conditions are usually expressions that compare values using comparison operators (e.g.,= ==. !=,<,>,<=,>=). The result of duch expressions is a boolean value, indicating the truth or falsity of the condition. This, inn turn, determines which block of code will be executeds."
   ]
  },
  {
   "cell_type": "markdown",
   "id": "59e24bad-6094-4865-ae6a-fb8f468c7009",
   "metadata": {},
   "source": [
    "<br>"
   ]
  },
  {
   "cell_type": "markdown",
   "id": "22d9a067-8be0-4101-ad7c-9219dba14f70",
   "metadata": {},
   "source": [
    "# __Truthy Vs. Falsy Values__\n",
    "***"
   ]
  },
  {
   "cell_type": "markdown",
   "id": "3900be97-a120-426b-a58e-386015c5d326",
   "metadata": {},
   "source": [
    "In JavaScript, values are not only categorized as true or false but also as \"truthy\" or \"falsy\". This distinction is important when evaluating conditions in conditional statements."
   ]
  },
  {
   "cell_type": "markdown",
   "id": "a1a54cfb-8b5f-4f9e-969b-b4480f9e0c6c",
   "metadata": {},
   "source": [
    "__Falsy Values:__"
   ]
  },
  {
   "cell_type": "markdown",
   "id": "a5daedb0-739e-402f-ac90-d7dfbe4d0435",
   "metadata": {},
   "source": [
    "- __false:__ The keyword false.\n",
    "- __0__: The number zero.\n",
    "- __\"\"__ (Empty String): A string with no characters.\n",
    "- __null:__ Represents no value or no object.\n",
    "- __Undefined:__ Indicates that a variable has not been assigned a value.\n",
    "- __NaN:__ Stands for \"Not-a-Number\"."
   ]
  },
  {
   "cell_type": "markdown",
   "id": "4a255cfc-7f70-4ab0-a72e-64e10cef70d1",
   "metadata": {},
   "source": [
    "<font color = blue> Example:"
   ]
  },
  {
   "cell_type": "code",
   "execution_count": 1,
   "id": "e85c2565-894b-4ea1-9f61-0258e5330571",
   "metadata": {},
   "outputs": [
    {
     "name": "stdout",
     "output_type": "stream",
     "text": [
      "0 is falsy\n"
     ]
    }
   ],
   "source": [
    "if (0) {\n",
    "    console.log(\"This won't print, 0 is falsy\");\n",
    "} else {\n",
    "    console.log(\"0 is falsy\");\n",
    "} \n",
    "if (null) {\n",
    "    console.log(\"This won't print, null is falsy\");\n",
    "}"
   ]
  },
  {
   "cell_type": "markdown",
   "id": "b6fbdc03-6350-4603-98b9-36bcbc8cb961",
   "metadata": {},
   "source": [
    "__Truthy Values:__ Any value that is not falsy is considered truthy. This includes true, all numbers (other than 0), all strings (including those with whitespace), and all objects and arrays (even empty ones)."
   ]
  },
  {
   "cell_type": "code",
   "execution_count": 2,
   "id": "c4037a76-0d16-4816-86ba-30f2801b1177",
   "metadata": {},
   "outputs": [
    {
     "name": "stdout",
     "output_type": "stream",
     "text": [
      "42 is truthy\n",
      "Non-empty string is truthy\n",
      "Whitespace-only string is also truthy\n",
      "An empty array is truthy\n",
      "An empty object is truthy\n"
     ]
    }
   ],
   "source": [
    "if (42) {\n",
    "    console.log(\"42 is truthy\");\n",
    "}\n",
    "if (\"Hello\") {\n",
    "    console.log(\"Non-empty string is truthy\");\n",
    "}\n",
    "if (\" \") {\n",
    "    console.log(\"Whitespace-only string is also truthy\");\n",
    "}\n",
    "if ([]) {\n",
    "    console.log(\"An empty array is truthy\");\n",
    "                }\n",
    "if ({}) {\n",
    "    console.log(\"An empty object is truthy\");\n",
    "}"
   ]
  },
  {
   "cell_type": "markdown",
   "id": "bf5e7928-f840-460a-a020-38ace90be798",
   "metadata": {},
   "source": [
    "<br>"
   ]
  },
  {
   "cell_type": "markdown",
   "id": "a4bbddf3-c6a5-47f1-9ca2-b118bcad9ac1",
   "metadata": {},
   "source": [
    "# __If...Else Statements__\n",
    "***"
   ]
  },
  {
   "cell_type": "markdown",
   "id": "326b2a7e-00ed-4636-bbf9-950847b2008d",
   "metadata": {},
   "source": [
    "An if..else statement will execute a statment if the specified condition is truthy. This is the most basic conditional statement, it gives your program a bit more flexibility and decision making. The steps to making an if statement are below:"
   ]
  },
  {
   "cell_type": "markdown",
   "id": "e37a5d93-2b1e-484c-9f81-39550601aee2",
   "metadata": {},
   "source": [
    "1. keyword if followed by parenthesis.\n",
    "2. A conditiona test in parenthesis, usually using comparison operators.\n",
    "3. A set of curly braces, inside is the code that runs if true.\n",
    "4. The else keyword.\n",
    "5. Another set of curly braces, inside is the code that runs if false."
   ]
  },
  {
   "cell_type": "markdown",
   "id": "0738b9b1-be51-4d75-9971-5633e86185cc",
   "metadata": {},
   "source": [
    "__Note:__ The else is optional. You can create just a basic if statement without an else if needed."
   ]
  },
  {
   "cell_type": "markdown",
   "id": "6c84e454-7c75-4f47-afec-475cf030b976",
   "metadata": {},
   "source": [
    "<font color = blue> Syntax:"
   ]
  },
  {
   "cell_type": "code",
   "execution_count": 3,
   "id": "05e07c99-4e56-418a-a2c9-1b2a28615cae",
   "metadata": {},
   "outputs": [],
   "source": [
    "if ('condition') {\n",
    "    //Code here runs if the condition is true.\n",
    "}\n",
    "//Code out here is OUTSIDE the if statement block of code. The if statement doesn't "
   ]
  },
  {
   "cell_type": "markdown",
   "id": "2f1e93f9-e096-4319-9e41-9341c9240d03",
   "metadata": {},
   "source": [
    "<font color = blue> Example:"
   ]
  },
  {
   "cell_type": "code",
   "execution_count": 5,
   "id": "3e983a1c-0111-4e72-9522-b6b2c7cf5db7",
   "metadata": {},
   "outputs": [
    {
     "name": "stdout",
     "output_type": "stream",
     "text": [
      "We are the same age\n"
     ]
    }
   ],
   "source": [
    "let myAge = 2;\n",
    "let yourAge = 2;\n",
    "\n",
    "if (myAge == yourAge) {\n",
    "    console.log(\"We are the same age\");\n",
    "}"
   ]
  },
  {
   "cell_type": "markdown",
   "id": "76541605-4c4e-42da-8735-48ac649d4088",
   "metadata": {},
   "source": [
    "<font color = blue> Syntax:"
   ]
  },
  {
   "cell_type": "code",
   "execution_count": 6,
   "id": "6a41b48a-53ba-4b0f-8135-5ac91ead72ff",
   "metadata": {},
   "outputs": [],
   "source": [
    "if ('condition') { \n",
    "//Code here runs if the condition is true.\n",
    "} else {\n",
    "    //If the condition is false, run different code here \n",
    "}"
   ]
  },
  {
   "cell_type": "markdown",
   "id": "5b4ec2d7-9e10-4562-870a-0ea302a7dfe5",
   "metadata": {},
   "source": [
    "<font color = blue> Example: "
   ]
  },
  {
   "cell_type": "code",
   "execution_count": 7,
   "id": "d4aa424a-ac6f-42b3-a150-35dc60886cc8",
   "metadata": {},
   "outputs": [
    {
     "name": "stdout",
     "output_type": "stream",
     "text": [
      "You have more peaches than apples.\n"
     ]
    }
   ],
   "source": [
    "let numOfApples = 10;\n",
    "let numOfPeaches = 12;\n",
    "\n",
    "if (numOfApples > numOfPeaches) {\n",
    "    console.log(\"You have more apples than peaches.\");\n",
    "} else {\n",
    "    console.log (\"You have more peaches than apples.\");\n",
    "}"
   ]
  },
  {
   "cell_type": "code",
   "execution_count": 8,
   "id": "ca20ac1c-8d44-439e-9f48-ed8fca78a772",
   "metadata": {},
   "outputs": [
    {
     "data": {
      "text/plain": [
       "5"
      ]
     },
     "execution_count": 8,
     "metadata": {},
     "output_type": "execute_result"
    }
   ],
   "source": [
    "let shoppingDone = false;\n",
    "let childsAllowance;\n",
    "\n",
    "if (shoppingDone === true) {\n",
    "    childsAllowance = 10;\n",
    "} else {\n",
    "    childsAllowance = 5;\n",
    "}"
   ]
  },
  {
   "cell_type": "markdown",
   "id": "5393d910-6b09-4f60-9d4d-db567d1228b4",
   "metadata": {},
   "source": [
    "<br>"
   ]
  },
  {
   "cell_type": "markdown",
   "id": "cce82612-be29-4123-8ba4-c7e1aec56d79",
   "metadata": {},
   "source": [
    "# __Else If__\n",
    "***"
   ]
  },
  {
   "cell_type": "markdown",
   "id": "0d8be9b1-b3f7-444a-ba18-edc29f32654a",
   "metadata": {},
   "source": [
    "The last example provided us with two choices, or outcomes - but what if we want more than two?"
   ]
  },
  {
   "cell_type": "markdown",
   "id": "e19fca61-2c61-4a0e-a859-93108389fdae",
   "metadata": {},
   "source": [
    "There is a way to chain on extra choices/outcomes to your if...else - using else if. Each extra choice requires an additional block to put in between if () { } and else { }."
   ]
  },
  {
   "cell_type": "markdown",
   "id": "ab014ce4-daa3-41a3-9059-8ee2d5a05287",
   "metadata": {},
   "source": [
    "You can have as many different options in a conditional statement using else if."
   ]
  },
  {
   "cell_type": "markdown",
   "id": "73048d14-1e0c-49e0-acd5-b2a63e6611bb",
   "metadata": {},
   "source": [
    "<font color = blue> Syntax:"
   ]
  },
  {
   "cell_type": "code",
   "execution_count": 9,
   "id": "69d1d274-d227-480c-8bf3-81f19b5b8eb3",
   "metadata": {},
   "outputs": [],
   "source": [
    "if ('checks condition 1') {\n",
    "    //Code here runs if the condition is true.\n",
    "} else if ('checks condition 2') {\n",
    "    //Code here runs if the condition1 is false and condition 2 is true. \n",
    "} else if ('checks condition 3'){\n",
    "    //Code here runs if the conditional is false and conditional 3 is true.\n",
    "} else{ \n",
    "//Code here runs if all conditionals above are false.\n",
    "}"
   ]
  },
  {
   "cell_type": "markdown",
   "id": "95468d98-bca5-4cdc-8178-5652ddcabaf0",
   "metadata": {},
   "source": [
    "<font color = blue> Example:"
   ]
  },
  {
   "cell_type": "code",
   "execution_count": 10,
   "id": "bc7c87a8-b371-4393-9e6b-173073426f4a",
   "metadata": {},
   "outputs": [
    {
     "name": "stdout",
     "output_type": "stream",
     "text": [
      "Tom is not the same age as anyone\n"
     ]
    }
   ],
   "source": [
    "let tomsAge = 10;\n",
    "let sarahsAge = 12;\n",
    "let arisAge = 15;\n",
    "\n",
    "if (tomsAge == sarahsAge){\n",
    "    console.log(\"Tom and Sarah are the same age\");\n",
    "} else if (tomsAge == arisAge){\n",
    "    console.log(\"Tom and Ari are the same age\");\n",
    "} else{\n",
    "    console.log(\"Tom is not the same age as anyone\");\n",
    "}"
   ]
  },
  {
   "cell_type": "markdown",
   "id": "a2af355b-13c4-4efa-b212-9ededeedea4e",
   "metadata": {},
   "source": [
    "# __Combining Logical Operators with Conditionals__\n",
    "***"
   ]
  },
  {
   "cell_type": "markdown",
   "id": "795503a1-abb0-4a78-9d51-4f6933a467fe",
   "metadata": {},
   "source": [
    "__Logical Operators:__ Used to make decisions."
   ]
  },
  {
   "cell_type": "markdown",
   "id": "5152f9da-bc6a-4bac-8014-f159314f1b9d",
   "metadata": {},
   "source": [
    "<font color = blue> Example:\n",
    "\n",
    "- &&(and)\n",
    "- ||(or)\n",
    "- !(Not)"
   ]
  },
  {
   "cell_type": "markdown",
   "id": "6c7f33de-be64-4a3d-b1b8-06fc4433287d",
   "metadata": {},
   "source": [
    "We can combine logical operators with our conditional statements to make smarter programs."
   ]
  },
  {
   "cell_type": "markdown",
   "id": "c1d7d0cb-bd4d-40b4-aff6-af8606319978",
   "metadata": {},
   "source": [
    "<font color = blue> Example:"
   ]
  },
  {
   "cell_type": "code",
   "execution_count": 18,
   "id": "1980cdbf-6859-496f-a8ae-1c31df295cd0",
   "metadata": {},
   "outputs": [
    {
     "ename": "SyntaxError",
     "evalue": "Unexpected end of input",
     "execution_count": 18,
     "output_type": "error",
     "traceback": [
      "evalmachine.<anonymous>:7",
      "} else if (tomsAge > 10 || sarahsAge > 10 || ",
      "                                             ",
      "",
      "SyntaxError: Unexpected end of input",
      "    at new Script (node:vm:93:7)",
      "    at createScript (node:vm:248:10)",
      "    at Object.runInThisContext (node:vm:296:10)",
      "    at run ([eval]:1020:15)",
      "    at onRunRequest ([eval]:864:18)",
      "    at onMessage ([eval]:828:13)",
      "    at process.emit (node:events:514:28)",
      "    at emit (node:internal/child_process:951:14)",
      "    at process.processTicksAndRejections (node:internal/process/task_queues:83:21)"
     ]
    }
   ],
   "source": [
    "let tomAge = 10;\n",
    "let sarahAge = 12;\n",
    "let arisAge = 15;\n",
    "\n",
    "if (tomsAge > 10 && sarahsAge > 10 && arisAge > 10) {\n",
    "    console.log(\"All of them are older than 10\");\n",
    "} else if (tomsAge > 10 || sarahsAge > 10 || "
   ]
  },
  {
   "cell_type": "code",
   "execution_count": null,
   "id": "5a3f6845-ca1e-4b22-b5cc-226e626c5919",
   "metadata": {},
   "outputs": [],
   "source": []
  }
 ],
 "metadata": {
  "kernelspec": {
   "display_name": "JavaScript (Node.js)",
   "language": "javascript",
   "name": "javascript"
  },
  "language_info": {
   "file_extension": ".js",
   "mimetype": "application/javascript",
   "name": "javascript",
   "version": "20.8.1"
  }
 },
 "nbformat": 4,
 "nbformat_minor": 5
}
