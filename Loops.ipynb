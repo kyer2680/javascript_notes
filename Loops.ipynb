{
 "cells": [
  {
   "cell_type": "markdown",
   "id": "51586bea-935f-4480-9524-da701b7dc1f9",
   "metadata": {},
   "source": [
    "# __Loops in Javascript__"
   ]
  },
  {
   "cell_type": "markdown",
   "id": "4ce323ec-75cb-4158-8374-36121e49985f",
   "metadata": {},
   "source": [
    "***"
   ]
  },
  {
   "cell_type": "markdown",
   "id": "2daacc94-1f7e-4c53-acb7-9a0e9bb780df",
   "metadata": {},
   "source": [
    "__The Purpose of Loops__"
   ]
  },
  {
   "cell_type": "markdown",
   "id": "eab780f5-4d75-4e1b-a874-4bb16cd7a034",
   "metadata": {},
   "source": [
    "Loops are fundamental constructs in programming used to automate repetitive tasks,\n",
    "thereby making code more efficient and less cluttered. They are particularly useful in various\n",
    "scenarios, such as processing lists or arrays, repeating actions, or handling user inputs. Loops\n",
    "typically utilize an iterator variable, which tracks the state or progress of the loop. This\n",
    "iterator is often integral to the condition that determines when the loop starts and stops. By\n",
    "evaluating this condition, the loop can execute its code block repeatedly until the specified\n",
    "condition is no longer met."
   ]
  },
  {
   "cell_type": "markdown",
   "id": "7c080acf-1eb0-400a-aa99-e626e54d6e71",
   "metadata": {},
   "source": [
    "Iterator variables can have any name, yet often are represented by the letter i or another\n",
    "short letter."
   ]
  },
  {
   "cell_type": "markdown",
   "id": "e2b87099-a27a-4bdf-9156-a5afec221c7c",
   "metadata": {},
   "source": [
    "Iterator variables can have any name, yet often are represented by the letter i or another\n",
    "short letter."
   ]
  },
  {
   "cell_type": "markdown",
   "id": "9bfb6429-442b-48e1-8c82-f66daf9ccfb0",
   "metadata": {},
   "source": [
    "Loops, like most logic in programming can be evaluating to True or False ."
   ]
  },
  {
   "cell_type": "markdown",
   "id": "8ddc682f-79ba-4f67-b4de-eab40aff764c",
   "metadata": {},
   "source": [
    "<br>"
   ]
  },
  {
   "cell_type": "markdown",
   "id": "40a9fb79-7547-46e8-9e0f-393ae5f1ef6e",
   "metadata": {},
   "source": [
    "# __Types of Loops__"
   ]
  },
  {
   "cell_type": "markdown",
   "id": "89b721cc-dc80-4136-afb2-73e761551af7",
   "metadata": {},
   "source": [
    "***"
   ]
  },
  {
   "cell_type": "markdown",
   "id": "ffb544fd-0277-436f-88d7-ac3775fdfd12",
   "metadata": {},
   "source": [
    "__While Loops__"
   ]
  },
  {
   "cell_type": "markdown",
   "id": "baa7819b-90c5-4633-bec3-dac3093e50fb",
   "metadata": {},
   "source": [
    "A \"While\" Loop is used to repeat a specific block of code an unknown number of times, until\n",
    "a condition is met. For example, if we want to ask a user for a number between 1 and 10, we\n",
    "don't know how many times the user may enter a larger number, so we keep asking \"while\n",
    "the number is not between 1 and 10\". If we (or the computer) knows exactly how many times\n",
    "to execute a section of code (such as shuffling a deck of cards) we use a for loop."
   ]
  },
  {
   "cell_type": "code",
   "execution_count": null,
   "id": "899a0651-ab91-4180-8601-7cfa8468b6ba",
   "metadata": {},
   "outputs": [],
   "source": [
    "//This loop just counts from 1 to 4 and prints out the loops iterator variable valu\n",
    "let i = 1\n",
    "while (i < 5){\n",
    "console.log(i + \" Silly looking dogs\");\n",
    "i++;\n",
    "}"
   ]
  },
  {
   "cell_type": "markdown",
   "id": "80b9267d-1a84-466f-8ae5-a6a104df2124",
   "metadata": {},
   "source": [
    "Note: Please not the i++ which is incrementing the value of i . Without this this while\n",
    "loop would be stuck forever, since the condition is not being changed or satisfied."
   ]
  },
  {
   "cell_type": "code",
   "execution_count": null,
   "id": "6251443c-2134-4226-8158-923de828a1f3",
   "metadata": {},
   "outputs": [],
   "source": [
    "//Counts down from a number. The -- is decrementing the value as opposed to ++ whic\n",
    "let count = 10;\n",
    "while(count > 0){\n",
    "console.log(count);\n",
    "    count--;\n",
    "}"
   ]
  },
  {
   "cell_type": "code",
   "execution_count": null,
   "id": "05e7b201-6fff-4ab6-9d5e-2a67bc65fd79",
   "metadata": {},
   "outputs": [],
   "source": [
    "//Caluculates the sum of a number from 1 to 10 \n",
    "let sum = 0;\n",
    "let number = 1;\n",
    "while (number <= 10) {\n",
    "    sum += number; //same as sum = sum + number\n",
    "    number++;\n",
    "}\n",
    "console.log(\"Sum is:\", sum);\n"
   ]
  },
  {
   "cell_type": "markdown",
   "id": "2c1feaee-6087-42c0-90fc-035f1bf067a3",
   "metadata": {},
   "source": [
    "<br>"
   ]
  },
  {
   "cell_type": "markdown",
   "id": "d8871c35-e202-45dc-8a22-9bf431b58cf1",
   "metadata": {},
   "source": [
    "__For Loops__"
   ]
  },
  {
   "cell_type": "markdown",
   "id": "e69300bf-a19f-4c61-bfda-e738248df950",
   "metadata": {},
   "source": [
    "A \"For\" Loop is used to repeat a specific block of code a known number of times. For example, if we want to check the grade of every student in the class, we loop from 1 to that number. When the number of times is not known before hand, we use a \"While\" loop. "
   ]
  },
  {
   "cell_type": "markdown",
   "id": "97056604-8df0-4621-8ade-b00329771387",
   "metadata": {},
   "source": [
    "The for loop is used to repeat a section of code known number of times. Sometimes it is the computer that knows how many times, not you, but it is still known. Some examples: "
   ]
  },
  {
   "cell_type": "markdown",
   "id": "434de131-f53a-45ad-abbc-7f92f16657bd",
   "metadata": {},
   "source": [
    "_Unknown number of times:_"
   ]
  },
  {
   "cell_type": "markdown",
   "id": "898ed090-f76d-43f7-b55f-35c21cc898bc",
   "metadata": {},
   "source": [
    "\"Ask the User to Guess a pre-determined number between 1 and 100\". You have no way of knowing how many guesses it will take. "
   ]
  },
  {
   "cell_type": "markdown",
   "id": "335eb2dc-834c-4de6-b195-031593f9528b",
   "metadata": {},
   "source": [
    "\"Randomly look in an array for a given value.\" You have no way of knowing how many tries it will take to find the actual value. "
   ]
  },
  {
   "cell_type": "markdown",
   "id": "e658a917-0efb-41bf-aed3-f1cf3f0431f7",
   "metadata": {},
   "source": [
    "__Note:__ _this is a made-up example, because you would never randomly look into an array to find a value. You would always start at the front of the array and look one element at a time until you found the item or got to the end of the array._"
   ]
  },
  {
   "cell_type": "markdown",
   "id": "71803058-4072-49b1-9076-d1d80295940c",
   "metadata": {},
   "source": [
    "_Known number of times:_"
   ]
  },
  {
   "cell_type": "markdown",
   "id": "228a4e94-2606-472a-a204-6c18d398379f",
   "metadata": {},
   "source": [
    "Compute the average grade of the class. While you (the programmer) might not know how many grades exist in the class, the computer will know. Usually this is accomplished by using the \"length\" function on an array. "
   ]
  },
  {
   "cell_type": "markdown",
   "id": "bedf289b-196d-42d0-81e4-13400cee2fd0",
   "metadata": {},
   "source": [
    "Print the odd numbers from 1 to 1001"
   ]
  },
  {
   "cell_type": "code",
   "execution_count": null,
   "id": "6d2fff0f-b475-4f0b-8e43-32204ed0bab8",
   "metadata": {},
   "outputs": [],
   "source": [
    "//Prints out 'i' 5 times.\n",
    "for(let i = 1; i <= 5; i++){\n",
    "    console.log(i); \n",
    "}"
   ]
  },
  {
   "cell_type": "markdown",
   "id": "04564ca1-3892-412f-b64a-809e27c59e45",
   "metadata": {},
   "source": [
    "Note that this will run for as long as the condition is false, as dictated by the iterator variable."
   ]
  },
  {
   "cell_type": "code",
   "execution_count": null,
   "id": "276645be-eccc-49b4-9671-d707a82976a3",
   "metadata": {},
   "outputs": [],
   "source": [
    "//Iterartes through a listto check if the specified element is in the list \n",
    "\n",
    "const fruits = [\"Apple\", \"Pear\", \"Cherry\", \"Date\"]\n",
    "\n",
    "for(let i = 0; i < fruits.length; i++){\n",
    "    if(fruits[i] === \"Pear\"){\n",
    "        console.log(\"Pear located in the list\");\n",
    "    }\n",
    "}"
   ]
  },
  {
   "cell_type": "markdown",
   "id": "a13a96d5-c3d7-4c03-a9f0-01f2e5a4af2e",
   "metadata": {},
   "source": [
    "Note that we can look at the length of the list using the .length() list method. This is an easy way of telling the computer you want the length of the list. We can also use it to see how many items are in the list. Lets look at another example below. "
   ]
  },
  {
   "cell_type": "code",
   "execution_count": null,
   "id": "6d99b154-9733-4b27-b19b-0108dbdf723a",
   "metadata": {},
   "outputs": [],
   "source": [
    "let students = [\"Nicole\", \"Kye\", \"Leila\"]; \n",
    "console.log(students.length) "
   ]
  },
  {
   "cell_type": "code",
   "execution_count": null,
   "id": "2bdf7c5e-a276-4ca7-8031-a7ec6cfd463f",
   "metadata": {},
   "outputs": [],
   "source": [
    "//Looks through a list of students and lists what number each student is. \n",
    "let studentList = [\"Nicole\", \"Kye\", \"Leila\"]; \n",
    "\n",
    "for(let i = 0; i < studentList.length; i++){ \n",
    "console.log(studentList[i] + \" is student number \" + (i + 1)); \n",
    "}"
   ]
  },
  {
   "cell_type": "code",
   "execution_count": null,
   "id": "651abe75-7f4d-4217-ad57-de09cc9dad15",
   "metadata": {},
   "outputs": [],
   "source": [
    "//Sums list items\n",
    "let numbers = [10, 20, 30, 40, 50]; \n",
    "let sum = 0; \n",
    "for (let i = 0; i < numbers.length; i++) {\n",
    "    sum += numbers[i]; \n",
    "}\n",
    "console.log(\"Total Sum:\", sum); "
   ]
  },
  {
   "cell_type": "markdown",
   "id": "9d677507-0605-4b74-9619-62b4a008178b",
   "metadata": {},
   "source": [
    "__do.. while loops__"
   ]
  },
  {
   "cell_type": "markdown",
   "id": "c4a15158-ed33-476e-b932-dbb1106c51a8",
   "metadata": {},
   "source": [
    "Executes at least once, even if the condition is initially false. "
   ]
  },
  {
   "cell_type": "code",
   "execution_count": null,
   "id": "3f335311-a917-4e45-9a9b-95b3e8ee0724",
   "metadata": {},
   "outputs": [],
   "source": [
    "//Takes an input, then prints out the userInput, this continues until a number less\n",
    "let userInput;\n",
    "do {\n",
    "    userInput = Math.random(); // Simulate user input with random number\n",
    "    console.log(\"User Input:\", userInput);\n",
    "} while (userInput < 0.5); "
   ]
  },
  {
   "cell_type": "code",
   "execution_count": null,
   "id": "50aac370-ba1b-4f52-b701-da0829e2d0c1",
   "metadata": {},
   "outputs": [],
   "source": [
    "//Generating a random number until its even. Checking for an even number with the m\n",
    "let randomNumber; \n",
    "\n",
    "do {\n",
    "    randomNumber = Math.floor(Math.random() * 100); // Random number between 0 and\n",
    "    console.log(\"Generated Number:\", randomNumber);\n",
    "} while (randomNumber % 2 !== 0); // Continue if the number is odd "
   ]
  },
  {
   "cell_type": "markdown",
   "id": "0175ed4a-25bc-4d19-9421-3026bb341f05",
   "metadata": {},
   "source": [
    "<br>"
   ]
  },
  {
   "cell_type": "markdown",
   "id": "8f88e669-9412-42de-b1ac-ee2bea036a4b",
   "metadata": {},
   "source": [
    "# __Common Mistakes__\n",
    "***"
   ]
  },
  {
   "cell_type": "markdown",
   "id": "10272690-5f8a-490e-8b9b-e60cf4982790",
   "metadata": {},
   "source": [
    "__Infinite Loops__"
   ]
  },
  {
   "cell_type": "markdown",
   "id": "dac94c3a-341b-4f39-af46-e754168ee808",
   "metadata": {},
   "source": [
    "- Occur when the loop's exit condition is never met.\n",
    "- Common in while and do...while loops if the condition for exiting the loop is not properly updated within the loop. "
   ]
  },
  {
   "cell_type": "markdown",
   "id": "27e8ec23-0586-472b-a1c1-ad4154d8fe65",
   "metadata": {},
   "source": [
    "__Example:__"
   ]
  },
  {
   "cell_type": "code",
   "execution_count": null,
   "id": "06906ecf-aa78-4933-8a26-d3941df52684",
   "metadata": {},
   "outputs": [],
   "source": [
    "let x = 2; \n",
    "while(x < 5){\n",
    "    console.log(\"I will print forever\");\n",
    "}"
   ]
  },
  {
   "cell_type": "markdown",
   "id": "1b116f5c-606f-47c3-8f67-3cdcbac234ba",
   "metadata": {},
   "source": [
    "<br>"
   ]
  },
  {
   "cell_type": "markdown",
   "id": "e7f043d0-d8d6-4057-b1df-34a32f52ed8e",
   "metadata": {},
   "source": [
    "__Off By One Errors__"
   ]
  },
  {
   "cell_type": "markdown",
   "id": "02e0c25c-54bd-4836-916a-f4cf2808ded4",
   "metadata": {},
   "source": [
    "- Incorrectly setting loop boundaries, causing one too many or too few iterations. "
   ]
  },
  {
   "cell_type": "code",
   "execution_count": null,
   "id": "4a84dcc7-8d09-4be2-b575-4c32c8170d8a",
   "metadata": {},
   "outputs": [],
   "source": [
    "// Off-by-one error: iterates one extra time \n",
    "let array = [1, 2, 3, 4, 5]; \n",
    "for (let i = 0; i <= array.length; i++) {\n",
    "    console.log(array[i]); \n",
    "}"
   ]
  },
  {
   "cell_type": "markdown",
   "id": "ecf20a09-eeaa-43c3-9d16-26ee7e9307de",
   "metadata": {},
   "source": [
    "__Unintended Scope of Variables__"
   ]
  },
  {
   "cell_type": "code",
   "execution_count": null,
   "id": "44f4605f-c491-47bc-af1b-2dd24a6b90db",
   "metadata": {},
   "outputs": [],
   "source": [
    "// Variable 'i' should be accessible outside the loop \n",
    "for (let i = 0; i < 5; i++) {\n",
    "    // Loop logic\n",
    "}\n",
    "console.log(i); // Error: 'i' is not defined, it doesnt exist outside the loop. "
   ]
  },
  {
   "cell_type": "markdown",
   "id": "104b9377-2fa1-41d6-b88c-e4c09b8b8fe0",
   "metadata": {},
   "source": [
    "__Misunderstanding Loop Conditions__"
   ]
  },
  {
   "cell_type": "markdown",
   "id": "9d256c2c-2aaa-415c-8eaf-e7a96f7ab5b2",
   "metadata": {},
   "source": [
    "This happens when you confuse assignment and comparison operators. "
   ]
  },
  {
   "cell_type": "code",
   "execution_count": null,
   "id": "25aa9444-02b1-4025-807b-e910fd0590bb",
   "metadata": {},
   "outputs": [],
   "source": [
    "let i = 0; \n",
    "while (i = 5) { // Mistakenly using assignment '=' instead of '=='\n",
    "    // Loop logic \n",
    "}"
   ]
  },
  {
   "cell_type": "markdown",
   "id": "ac1ff1c4-5a6a-4a7b-89ce-8fb673b3653c",
   "metadata": {},
   "source": [
    "<br>"
   ]
  },
  {
   "cell_type": "markdown",
   "id": "659b1548-7b0b-4b13-8e42-efa646a6b02e",
   "metadata": {},
   "source": [
    "# __Best Practices__\n",
    "***"
   ]
  },
  {
   "cell_type": "markdown",
   "id": "89dab24e-eede-44cc-9ae2-eea68fec7943",
   "metadata": {},
   "source": [
    "__Clearly Define Loop Conditions:__"
   ]
  },
  {
   "cell_type": "markdown",
   "id": "349d4fbc-0668-4040-8d1a-52fa60ef389b",
   "metadata": {},
   "source": [
    "- Ensure loop conditions are explicit to avoid infinite loops.\n",
    "- Regularly update the condition within the loop as needed. "
   ]
  },
  {
   "cell_type": "markdown",
   "id": "faa803e5-9bd0-401c-922e-d7d3af39ec20",
   "metadata": {},
   "source": [
    "__Use the Most Appropriate Loop Type:__"
   ]
  },
  {
   "cell_type": "markdown",
   "id": "c9f79816-adb7-4877-8680-21d1418657d3",
   "metadata": {},
   "source": [
    "-  Choose for loops for known iteration counts.\n",
    "-  Opt for while loops when the number of iterations is not predetermined\n",
    "-  Use do...while loops when the loop body must execute at least once. "
   ]
  },
  {
   "cell_type": "markdown",
   "id": "d93e24f4-3b29-45eb-93ba-64f468b06242",
   "metadata": {},
   "source": [
    "__Properly Initialize Loop Variables:__"
   ]
  },
  {
   "cell_type": "markdown",
   "id": "c767b2ad-1f0f-44ac-b7e3-64dddc321e77",
   "metadata": {},
   "source": [
    "-  Declare and initialize all loop control variables clearly\n",
    "-  Consider the scope of these variables, especially in for loops.."
   ]
  },
  {
   "cell_type": "markdown",
   "id": "f0441532-432d-44bf-b78b-7636fee6d6f3",
   "metadata": {},
   "source": [
    "__Keep Loop Bodies Simple and Clear:__"
   ]
  },
  {
   "cell_type": "markdown",
   "id": "fa41f054-9acd-4dbd-91ca-f5a1d8b6105e",
   "metadata": {},
   "source": [
    "-  Avoid overcomplicating the code inside loops.\n",
    "-  Strive for readability and maintainability. "
   ]
  },
  {
   "cell_type": "markdown",
   "id": "a9feb448-0718-40ff-bf2f-a54c0ca176f5",
   "metadata": {},
   "source": [
    "__Avoid 'Magic Numbers':__"
   ]
  },
  {
   "cell_type": "markdown",
   "id": "7836e975-1a08-4d8c-bc9a-ffa208d32721",
   "metadata": {},
   "source": [
    "-  Use named constants or variables instead of hard-coded numbers in loop conditions.\n",
    "-  This enhances the readability and adaptability of the code. "
   ]
  },
  {
   "cell_type": "markdown",
   "id": "f9d19f53-db68-4435-b634-c9312288f18d",
   "metadata": {},
   "source": [
    "__Comment and Document Complex Loops:__"
   ]
  },
  {
   "cell_type": "markdown",
   "id": "ff9cfa13-de3f-4fa8-a792-36c25eaf5e45",
   "metadata": {},
   "source": [
    "-  Provide clear comments for complex loop logic to aid understanding and future maintenance.\n",
    "-  Describe the purpose and functionality of the loop. "
   ]
  },
  {
   "cell_type": "markdown",
   "id": "70d3c3ed-fad0-495f-8a65-f6bda380f1c2",
   "metadata": {},
   "source": [
    "__Refactor and Optimize When Necessary:__"
   ]
  },
  {
   "cell_type": "markdown",
   "id": "8c17ef35-1852-49c2-a254-6bc7fe051ccb",
   "metadata": {},
   "source": [
    "-  Revisit and refactor loop logic for efficiency and clarity.\n",
    "-  Consider alternative approaches if a loop seems overly complex or inefficient. "
   ]
  },
  {
   "cell_type": "code",
   "execution_count": null,
   "id": "cc7648ee-7f56-4a26-80e6-311c82abee96",
   "metadata": {},
   "outputs": [],
   "source": []
  }
 ],
 "metadata": {
  "kernelspec": {
   "display_name": "JavaScript (Node.js)",
   "language": "javascript",
   "name": "javascript"
  },
  "language_info": {
   "file_extension": ".js",
   "mimetype": "application/javascript",
   "name": "javascript",
   "version": "20.8.1"
  }
 },
 "nbformat": 4,
 "nbformat_minor": 5
}
