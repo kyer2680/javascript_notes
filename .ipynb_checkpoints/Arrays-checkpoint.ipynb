{
 "cells": [
  {
   "cell_type": "markdown",
   "id": "86de5424-1ba6-40e0-bbbc-c580fe334334",
   "metadata": {},
   "source": [
    "# __JavaScript Lists(Arrays)__\n",
    "***"
   ]
  },
  {
   "cell_type": "markdown",
   "id": "89671bd2-fe4b-468a-ab77-a90bb3e581ac",
   "metadata": {},
   "source": [
    "__JavaScript Lists:__ Commonly referred to as Arrays, are a way to store multiple values in a\n",
    "single variable. Arrays are incredibly useful for managing and manipulating sets of data."
   ]
  },
  {
   "cell_type": "markdown",
   "id": "21eca7f2-c2eb-495a-8e4a-6d673ab77bd8",
   "metadata": {},
   "source": [
    "<br>"
   ]
  },
  {
   "cell_type": "markdown",
   "id": "a943bb6e-b579-4495-a85a-746ab16653b2",
   "metadata": {},
   "source": [
    "# __Creating and Initializing Arrays__\n",
    "***"
   ]
  },
  {
   "cell_type": "markdown",
   "id": "e1fc6593-fdf3-48b8-b720-69b52c24c27e",
   "metadata": {},
   "source": [
    "An array can hold a collection of items, which can be of various data types such as strings,\n",
    "numbers, booleans, and even other arrays or objects."
   ]
  },
  {
   "cell_type": "markdown",
   "id": "e678c9e3-6614-4fac-9505-e45c591e6cdc",
   "metadata": {},
   "source": [
    "__Syntax__"
   ]
  },
  {
   "cell_type": "markdown",
   "id": "cf489919-0845-4a84-b8d9-99590d38642e",
   "metadata": {},
   "source": [
    "To create an array, you use square brackets []. You can initialize an array with items or start\n",
    "with an empty array."
   ]
  },
  {
   "cell_type": "code",
   "execution_count": 1,
   "id": "1af94c26-a85b-4483-8983-cf7374b40b82",
   "metadata": {},
   "outputs": [],
   "source": [
    "// Initializing an empty array\n",
    "let fruits = [];\n",
    "// Initializing an array with items\n",
    "let colors = [\"red\", \"green\", \"blue\"];"
   ]
  },
  {
   "cell_type": "markdown",
   "id": "a4f80d40-c7d5-4af5-9551-6a917bbbcc03",
   "metadata": {},
   "source": [
    "<br>"
   ]
  },
  {
   "cell_type": "markdown",
   "id": "c097abc1-5efb-40a5-aba1-83fc1f74c74f",
   "metadata": {},
   "source": [
    "# __Accessing Array Elements__\n",
    "***"
   ]
  },
  {
   "cell_type": "markdown",
   "id": "8beca3fe-0140-49c0-8b9f-15cc6c9858e9",
   "metadata": {},
   "source": [
    "Each item in an array has an index, starting from 0. You can access an element by using its\n",
    "index inside square brackets."
   ]
  },
  {
   "cell_type": "markdown",
   "id": "0cae8e1f-2113-4a79-b818-6e79cdeefa40",
   "metadata": {},
   "source": [
    "<font color = \"red\">IMPORTANT NOTE: THE AP CSP EXAM\n",
    "STARTS INDEXES AT 1 NOT 0, CONTRARY\n",
    "TO MANY PROGRAMMING LANGAUGES.</font>"
   ]
  },
  {
   "cell_type": "code",
   "execution_count": 2,
   "id": "d7f24a3c-4a96-47e8-ba3b-a4c91fc33db8",
   "metadata": {},
   "outputs": [
    {
     "name": "stdout",
     "output_type": "stream",
     "text": [
      "red\n"
     ]
    }
   ],
   "source": [
    "let firstColor = colors[0]; // Accessing the first item, \"red\"\n",
    "console.log(firstColor); // Output: \"red\""
   ]
  },
  {
   "cell_type": "markdown",
   "id": "62bce3e6-68cb-4dae-b7b9-3ad76d2e1ae2",
   "metadata": {},
   "source": [
    "<br>"
   ]
  },
  {
   "cell_type": "markdown",
   "id": "dbb12ee1-ccea-43e9-863b-d50eab2e0ce8",
   "metadata": {},
   "source": [
    "# __Modifying Arrays__\n",
    "***"
   ]
  },
  {
   "cell_type": "markdown",
   "id": "085ebf21-d963-42f7-96d4-c10731025668",
   "metadata": {},
   "source": [
    "Arrays are mutable, meaning you can modify them after creation."
   ]
  },
  {
   "cell_type": "code",
   "execution_count": 3,
   "id": "6bef11d2-1b2a-4b46-a70c-ee2934ff8023",
   "metadata": {},
   "outputs": [
    {
     "data": {
      "text/plain": [
       "4"
      ]
     },
     "execution_count": 3,
     "metadata": {},
     "output_type": "execute_result"
    }
   ],
   "source": [
    "//Changing an element\n",
    "colors[1] = \"yellow\"; //Changing \"green\" to \"yellow\" \n",
    "\n",
    "//Adding a new element \n",
    "colors.push(\"purple\"); //Adding \"purple\" to the end "
   ]
  },
  {
   "cell_type": "markdown",
   "id": "2b049745-1a97-4c09-a889-d1d09df39f2f",
   "metadata": {},
   "source": [
    "<br>"
   ]
  },
  {
   "cell_type": "markdown",
   "id": "7bef438c-a008-4a7e-8c3b-ff536befcd92",
   "metadata": {},
   "source": [
    "# __Array Properties and Methods__\n",
    "***"
   ]
  },
  {
   "cell_type": "markdown",
   "id": "97250280-a1c6-4995-9dd6-574fcd199673",
   "metadata": {},
   "source": [
    "Arrays come with various properties and methods for manipulation and inspection. We will mostly need the length property and a variety of methods listed below."
   ]
  },
  {
   "cell_type": "markdown",
   "id": "f5b7c924-1b0c-43a2-a62b-93b8504f798f",
   "metadata": {},
   "source": [
    "__Length Property__"
   ]
  },
  {
   "cell_type": "markdown",
   "id": "22928ec4-22f2-4cd2-9e74-8e20ba804c5e",
   "metadata": {},
   "source": [
    "The length property outputs the number of items in the array."
   ]
  },
  {
   "cell_type": "code",
   "execution_count": 4,
   "id": "4954ddf4-3647-454d-bc28-c61bdef6ca69",
   "metadata": {},
   "outputs": [
    {
     "name": "stdout",
     "output_type": "stream",
     "text": [
      "4\n"
     ]
    }
   ],
   "source": [
    "console.log(colors.length); // Output: the number of elements in colors array"
   ]
  },
  {
   "cell_type": "markdown",
   "id": "4949d36e-a26a-4176-bd61-eecb3106dc85",
   "metadata": {},
   "source": [
    "__Common Array Methods__"
   ]
  },
  {
   "cell_type": "code",
   "execution_count": 12,
   "id": "61aa3d07-c65d-4081-8a5b-225648c5c5b7",
   "metadata": {},
   "outputs": [
    {
     "ename": "SyntaxError",
     "evalue": "Unexpected token ')'",
     "execution_count": 12,
     "output_type": "error",
     "traceback": [
      "evalmachine.<anonymous>:20",
      "array.splice(startIndex, deleteCount, newElement1, newElement2,...);",
      "                                                                  ^",
      "",
      "SyntaxError: Unexpected token ')'",
      "    at new Script (node:vm:93:7)",
      "    at createScript (node:vm:248:10)",
      "    at Object.runInThisContext (node:vm:296:10)",
      "    at run ([eval]:1020:15)",
      "    at onRunRequest ([eval]:864:18)",
      "    at onMessage ([eval]:828:13)",
      "    at process.emit (node:events:514:28)",
      "    at emit (node:internal/child_process:951:14)",
      "    at process.processTicksAndRejections (node:internal/process/task_queues:83:21)"
     ]
    }
   ],
   "source": [
    "// Adding an element to the end of the day\n",
    "array.push(element);\n",
    "\n",
    "// Removing the last element of the array\n",
    "array.pop();\n",
    "\n",
    "// Adding an element to the beginning of the array\n",
    "array.unshift(element); \n",
    "\n",
    "// Removing the first element of the array\n",
    "array.shift();\n",
    "\n",
    "// Finding the index of an element of the array\n",
    "let index = array.indexOf(element);\n",
    "\n",
    "// Removing elements from an array (starting index, number of elements to remove)\n",
    "array.splice(startIndex, deleteCount);\n",
    "\n",
    "// Adding elements to an array(starting index, number of elements to delete, elements)\n",
    "array.splice(startIndex, deleteCount, newElement1, newElement2,...);\n",
    "\n",
    "// Creating a shallow copy of a part of an array (start index, end index)\n",
    "let newArray = array.slice(startIndex, endIndex);\n",
    "// Joining all elements of an array into a string (separator)\n",
    "let str = array.join(separator);\n",
    "// Reversing the elements in the array\n",
    "array.reverse();\n",
    "// Sorting the elements in the array\n",
    "array.sort();\n",
    "// Iterating over each element in the array\n",
    "array.forEach(function(element, index) {\n",
    "// Code to execute for each element\n",
    "});\n",
    "// Transforming elements in the array and creating a new array\n",
    "let newArray = array.map(function(element, index) {\n",
    "// Return new value for the element\n",
    "});\n",
    "// Filtering elements in the array based on a condition\n",
    "let filteredArray = array.filter(function(element, index) {\n",
    "// Return true to keep the element, false to filter it out\n",
    "});\n",
    "// Checking if any element in the array passes a test\n",
    "let result = array.some(function(element, index) {\n",
    "// Return true or false based on condition\n",
    "});\n",
    "// Checking if all elements in the array pass a test\n",
    "let allPass = array.every(function(element, index) {\n",
    "    // Return true or false based on condition\n",
    "});\n",
    "// Reducing the array to a single value\n",
    "let result = array.reduce(function(accumulator, element, index) {\n",
    "// Return updated accumulator\n",
    "}, initialValue);\n",
    "// Finding the first element in the array that satisfies a condition\n",
    "let foundElement = array.find(function(element, index) {\n",
    "// Return true if this is the element you are looking for\n",
    "});\n",
    "// Finding the index of the first element in the array that satisfies a condition\n",
    "let foundIndex = array.findIndex(function(element, index) {\n",
    "// Return true if this is the element you are looking for\n",
    "});\n",
    "// Concatenating multiple arrays\n",
    "let newArray = array1.concat(array2, array3, ...);"
   ]
  },
  {
   "cell_type": "markdown",
   "id": "14e8c28d-caf3-493b-9568-bc1d5b724402",
   "metadata": {},
   "source": [
    "# __Looping Through Arrays__\n",
    "***"
   ]
  },
  {
   "cell_type": "markdown",
   "id": "9c8d8261-5379-4a67-9523-4926cc573ab1",
   "metadata": {},
   "source": [
    "To iterate over an array, you can use loops like for , forEach , for...of ."
   ]
  },
  {
   "cell_type": "code",
   "execution_count": 6,
   "id": "bd44ef8a-b905-415f-8524-4900b5328e6c",
   "metadata": {},
   "outputs": [
    {
     "name": "stdout",
     "output_type": "stream",
     "text": [
      "red\n",
      "yellow\n",
      "blue\n",
      "purple\n",
      "red\n",
      "yellow\n",
      "blue\n",
      "purple\n"
     ]
    }
   ],
   "source": [
    "// Using forEach\n",
    "colors.forEach(function(color) {\n",
    "    console.log(color);\n",
    "});\n",
    "\n",
    "// Using for...of \n",
    "for (let color of colors) {\n",
    "    console.log(color);\n",
    "}"
   ]
  },
  {
   "cell_type": "markdown",
   "id": "6f36e01b-b982-42cb-9f00-d6131e9f9a38",
   "metadata": {},
   "source": [
    "<br>"
   ]
  },
  {
   "cell_type": "markdown",
   "id": "26ba9211-0302-45f6-883c-eb9b05bcd84c",
   "metadata": {},
   "source": [
    "# __Multidimensional Arrays__\n",
    "***"
   ]
  },
  {
   "cell_type": "markdown",
   "id": "97511691-2cb1-4e8f-b6db-e9f0773372fc",
   "metadata": {},
   "source": [
    "Arrays can contain other arrays, creating a multidimensional array. "
   ]
  },
  {
   "cell_type": "code",
   "execution_count": 11,
   "id": "cf56742f-6633-4a59-aae8-97ce2a70429f",
   "metadata": {},
   "outputs": [
    {
     "ename": "SyntaxError",
     "evalue": "Identifier 'matrix' has already been declared",
     "execution_count": 11,
     "output_type": "error",
     "traceback": [
      "evalmachine.<anonymous>:1",
      "let matrix = [",
      "^",
      "",
      "SyntaxError: Identifier 'matrix' has already been declared",
      "    at Script.runInThisContext (node:vm:122:12)",
      "    at Object.runInThisContext (node:vm:296:38)",
      "    at run ([eval]:1020:15)",
      "    at onRunRequest ([eval]:864:18)",
      "    at onMessage ([eval]:828:13)",
      "    at process.emit (node:events:514:28)",
      "    at emit (node:internal/child_process:951:14)",
      "    at process.processTicksAndRejections (node:internal/process/task_queues:83:21)"
     ]
    }
   ],
   "source": [
    "let matrix = [\n",
    "    [1, 2, 3],\n",
    "    [4, 5, 6],\n",
    "    [7, 8, 9]\n",
    "];\n",
    "\n",
    "console.log(matrix[1][2]); // Accessing the third element of the second array"
   ]
  },
  {
   "cell_type": "markdown",
   "id": "ce63d19b-f7dc-46d1-80bd-8a735b0ae118",
   "metadata": {},
   "source": [
    "<br>"
   ]
  },
  {
   "cell_type": "markdown",
   "id": "8f39a4a1-decf-4778-86bc-883e02f09d59",
   "metadata": {},
   "source": [
    "# __Use Cases__\n",
    "***"
   ]
  },
  {
   "cell_type": "markdown",
   "id": "64ea108f-97c6-4b42-ab12-10109f9c5c67",
   "metadata": {},
   "source": [
    "__Data Collection and Management:__ Arrays are ideal for collecting and managing sets of data, such as user inputs, records from a database, or any set of values. They provide a structured way to store and access this data. \n",
    "\n",
    "__Data Manipulation:__ You can perform various operations on arrays like sorting, filtering, and mapping to manipulate data. For instance, sorting user data based on criteria, filtering a list of products based on categories, or transforming data into a new format for presentation. \n",
    "\n",
    "__Mathematical Computations:__ Arrays can store numerical data and are useful in mathematical computations. You can use them for statistical analysis, such as calculating averages, sums, or other complex mathematical operations. \n",
    "\n",
    "__UI Components:__ In web development, arrays are often used to manage lists of UI elements. For example, displaying a list of items in a dropdown menu, a table of data, or a carousel of In [ ]: In [ ]:\n",
    "images. \n",
    "\n",
    "__Stacks and Queues Implementation:__ Arrays can be used to implement other data structures like stacks and queues. For example, using push and pop methods for stack operations, and shift and push for queue operations. \n",
    "\n",
    "__Graphs and Trees Data Structure:__ Arrays can represent more complex data structures like graphs (as adjacency lists or matrices) and trees (like binary trees, where each element has references to its children). \n",
    "\n",
    "__Algorithms Implementation:__ Arrays are fundamental in implementing various algorithms, especially those involving sorting and searching. They are often the underlying data structure used to store data during these operations. \n",
    "\n",
    "__Combining and Splitting Data:__ Using methods like concat, slice, and splice, arrays can be easily combined, partitioned, or reordered, which is useful in many applications like data processing or handling user-generated content. \n",
    "\n",
    "__Temporary Storage:__ Arrays are useful as a temporary storage mechanism when processing or manipulating data. For example, storing the results of intermediate steps in a complex calculation or algorithm. \n",
    "\n",
    "__Multi-Dimensional Data:__ Arrays can store multi-dimensional data, making them useful for scenarios like representing matrices in mathematical computations, pixel data in images, or multi-dimensional maps in games or simulations. \n",
    "\n",
    "__Functional Programming:__ Arrays in JavaScript work well with functional programming concepts, using methods like map, filter, reduce, which allow for operations on arrays without mutating them. \n",
    "\n",
    "__Batch Operations:__ Performing operations on multiple items at once, like updating a set of records or applying a function across multiple elements. "
   ]
  },
  {
   "cell_type": "code",
   "execution_count": null,
   "id": "9b7c3ad0-56f8-4bd5-904e-fcf39a4d9494",
   "metadata": {},
   "outputs": [],
   "source": []
  }
 ],
 "metadata": {
  "kernelspec": {
   "display_name": "JavaScript (Node.js)",
   "language": "javascript",
   "name": "javascript"
  },
  "language_info": {
   "file_extension": ".js",
   "mimetype": "application/javascript",
   "name": "javascript",
   "version": "20.8.1"
  }
 },
 "nbformat": 4,
 "nbformat_minor": 5
}
