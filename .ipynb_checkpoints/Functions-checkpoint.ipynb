{
 "cells": [
  {
   "cell_type": "markdown",
   "id": "90511452-aaa0-4985-9b6f-b3f2bc1eb430",
   "metadata": {},
   "source": [
    "# Functions In Javascript\n",
    "***"
   ]
  },
  {
   "cell_type": "markdown",
   "id": "1cc818f3-56bd-4582-9609-e6ce2a1022da",
   "metadata": {},
   "source": [
    "Documentation located here."
   ]
  },
  {
   "cell_type": "markdown",
   "id": "d446a2b0-21b4-4a6d-b7aa-6efc62cd8f3d",
   "metadata": {},
   "source": [
    "<br>"
   ]
  },
  {
   "cell_type": "markdown",
   "id": "eeec9095-2818-40b3-9726-08ba039237a2",
   "metadata": {},
   "source": [
    "__Functions:__ Functions are one of the fundamental building blocks in JavaScript. A function in JavaScript is similar to a procedure- a set of statements that performs a task or calculates a value, but for a procedure to oqualify as a function, it should take some input and return an output. Functions are repeatable lines of code that make our programs neater and easier to read and run."
   ]
  },
  {
   "cell_type": "markdown",
   "id": "e8fbe3d6-6752-49a6-895b-1f905c721f4d",
   "metadata": {},
   "source": [
    "<br>"
   ]
  },
  {
   "cell_type": "markdown",
   "id": "f490263c-3f58-4467-810c-7cfeacd7b025",
   "metadata": {},
   "source": [
    "# Defining Functions\n",
    "***"
   ]
  },
  {
   "cell_type": "markdown",
   "id": "61f8c7ed-5db8-4f38-9a2c-4fc9c131a7e1",
   "metadata": {},
   "source": [
    "In JavaScript, in order to create a function there is a syntax that we use. There are multiple ways to create functions in Javascript, we will talk about 2 different ways below. "
   ]
  },
  {
   "cell_type": "markdown",
   "id": "706027a0-e215-4b07-ada2-bce5203f7499",
   "metadata": {},
   "source": [
    "__Function Declarations:__"
   ]
  },
  {
   "cell_type": "markdown",
   "id": "a71459ec-ce09-4824-a5ac-5f736defa4b3",
   "metadata": {},
   "source": [
    "A function definition (also called a function declaration, or function statemens) consists of the function keyword, followed by:"
   ]
  },
  {
   "cell_type": "markdown",
   "id": "997ee502-b1b4-4b31-8ed6-b4573a782969",
   "metadata": {},
   "source": [
    "1. The name of the function.\n",
    "2. A list of parameters to the function, enclosed in parentheses and seperated commas.\n",
    "3. The javaScript statements that define the function, enclosed in curly braces. {/* ... */}."
   ]
  },
  {
   "cell_type": "markdown",
   "id": "214982eb-d18a-4088-bee5-80e0937f0946",
   "metadata": {},
   "source": [
    "<font color = \"blue\">Example:</font> "
   ]
  },
  {
   "cell_type": "code",
   "execution_count": 1,
   "id": "ade38976-03ec-421d-aa76-c72e07f095fb",
   "metadata": {},
   "outputs": [],
   "source": [
    "function square(number){\n",
    "    return number * number;\n",
    "}"
   ]
  },
  {
   "cell_type": "markdown",
   "id": "a51e2e70-961f-4e4a-a867-755e34f432e0",
   "metadata": {},
   "source": [
    "In the example above the function called square takes a single parameter, which is the word enclosed in paranthesis. The function then utilizes the return keyword to pass the result of the parameter out of the function."
   ]
  },
  {
   "cell_type": "markdown",
   "id": "e68bf3ee-7047-48bb-828f-ccdd116d87ec",
   "metadata": {},
   "source": [
    "__Parameter:__ A parameter in programming is a named variable used only in a function or method <font color = \"red\">definition.</font> It acts like a variable and holds the values <font color = \"red\">passed</font> to the function when its <font color = \"red\">called.</font> "
   ]
  },
  {
   "cell_type": "markdown",
   "id": "3d7bf1dc-c847-4717-983c-7825d10aab2a",
   "metadata": {},
   "source": [
    "__Return:__ A return statement in a function is an optional statement that exists the function and returns a value to the program, outside of the blovk of the function. Any code following the return statements is _not_ executed. If a function doesn't have a return statement, or if no return value is specified, the function returns as _undefined_"
   ]
  },
  {
   "cell_type": "code",
   "execution_count": 6,
   "id": "37522248-925f-4588-a1e2-a8d6b633cab2",
   "metadata": {},
   "outputs": [],
   "source": [
    "function sum(a, b){\n",
    "    return a +b ;\n",
    "8\n",
    "}"
   ]
  },
  {
   "cell_type": "markdown",
   "id": "ee042e6a-fbd0-4777-9820-463b29f0cbb6",
   "metadata": {},
   "source": [
    "In the function abpve we are utilizing 2 parameters and simply adding 2 numbers. A and B. We are then returning the value out of the function. However please note that functions need to have more than a definition which is seen above. We now need to _call_ the function, in order to utilize it is 8."
   ]
  },
  {
   "cell_type": "markdown",
   "id": "92f6f323-4aa6-4b43-b113-527d4b042be8",
   "metadata": {},
   "source": [
    ">"
   ]
  },
  {
   "cell_type": "markdown",
   "id": "4c2706cd-000c-4388-8216-cadadd2a2789",
   "metadata": {},
   "source": [
    "# Calling a Function\n",
    "***"
   ]
  },
  {
   "cell_type": "markdown",
   "id": "7663e722-2cea-4335-922a-0367416b9c6a",
   "metadata": {},
   "source": [
    "__Function Call:__ A function call is when you _call_ or use the function you have created. Note that when you create a function it does not need to be used right away in a procedural order. You can create it and use it whenever you need, as many times as needed. Before calling the function you must define it in the steps above. The syntax for calling a function is below, we are using the function definition from the sum function we created above. Note that we are using something called <font color = \"red\">arguments</font> in a function call."
   ]
  },
  {
   "cell_type": "markdown",
   "id": "e8f3f6d6-30ae-4949-993a-921350338058",
   "metadata": {},
   "source": [
    "__Argument:__ An argument is the value we input in the function call that is passed through the function via parameters. In other words the value of arguments are inputed and become the value of parameters in the function definition, much like how you assaign a variable a value. __The position of arguments matter, the arguments fill in the parameters in the order in which they are written.__"
   ]
  },
  {
   "cell_type": "markdown",
   "id": "0d51807c-6dd2-4c86-83be-851b9241a30d",
   "metadata": {},
   "source": [
    "<font color = \"blue\">Syntax:</font>"
   ]
  },
  {
   "cell_type": "markdown",
   "id": "bbb623f5-a4dc-4028-bdbd-385b89197d02",
   "metadata": {},
   "source": [
    "function_name (arguments);"
   ]
  },
  {
   "cell_type": "markdown",
   "id": "9abd6369-6949-4930-a0ee-c7ca157342d5",
   "metadata": {},
   "source": [
    "<font color = \"blue\">Example:</font>"
   ]
  },
  {
   "cell_type": "code",
   "execution_count": 3,
   "id": "ae72b473-9344-4e59-8ad9-3f744b57bd1a",
   "metadata": {},
   "outputs": [
    {
     "ename": "ReferenceError",
     "evalue": "sum is not defined",
     "execution_count": 3,
     "output_type": "error",
     "traceback": [
      "evalmachine.<anonymous>:1",
      "sum(3,5);",
      "^",
      "",
      "ReferenceError: sum is not defined",
      "    at evalmachine.<anonymous>:1:1",
      "    at Script.runInThisContext (node:vm:122:12)",
      "    at Object.runInThisContext (node:vm:296:38)",
      "    at run ([eval]:1020:15)",
      "    at onRunRequest ([eval]:864:18)",
      "    at onMessage ([eval]:828:13)",
      "    at process.emit (node:events:514:28)",
      "    at emit (node:internal/child_process:951:14)",
      "    at process.processTicksAndRejections (node:internal/process/task_queues:83:21)"
     ]
    }
   ],
   "source": [
    "sum(3,5);"
   ]
  },
  {
   "cell_type": "markdown",
   "id": "858119b4-f945-4967-8cdd-cd879fe47f29",
   "metadata": {},
   "source": [
    "Here is how we can _call_ the square function we defined before in our notes."
   ]
  },
  {
   "cell_type": "markdown",
   "id": "d1eb8138-b7dc-4bad-a68f-79418968575a",
   "metadata": {},
   "source": [
    "<font color = \"blue\">Example:</font>"
   ]
  },
  {
   "cell_type": "code",
   "execution_count": 4,
   "id": "8b0054d1-e58e-4342-9204-826a80323ddf",
   "metadata": {},
   "outputs": [
    {
     "ename": "ReferenceError",
     "evalue": "square is not defined",
     "execution_count": 4,
     "output_type": "error",
     "traceback": [
      "evalmachine.<anonymous>:1",
      "square(5);",
      "^",
      "",
      "ReferenceError: square is not defined",
      "    at evalmachine.<anonymous>:1:1",
      "    at Script.runInThisContext (node:vm:122:12)",
      "    at Object.runInThisContext (node:vm:296:38)",
      "    at run ([eval]:1020:15)",
      "    at onRunRequest ([eval]:864:18)",
      "    at onMessage ([eval]:828:13)",
      "    at process.emit (node:events:514:28)",
      "    at emit (node:internal/child_process:951:14)",
      "    at process.processTicksAndRejections (node:internal/process/task_queues:83:21)"
     ]
    }
   ],
   "source": [
    "square(5);"
   ]
  },
  {
   "cell_type": "markdown",
   "id": "e9b8c873-c897-4c32-a075-90949d1dbe3c",
   "metadata": {},
   "source": [
    "<font color = \"blue\">Syntax:</font>"
   ]
  },
  {
   "cell_type": "markdown",
   "id": "a83862cb-aabb-42cd-b833-644d055c0327",
   "metadata": {},
   "source": [
    "<br>"
   ]
  },
  {
   "cell_type": "markdown",
   "id": "dbcab5e5-a215-42f8-acd6-c995f565baff",
   "metadata": {},
   "source": [
    "# Function Definitions and Calls\n",
    "***"
   ]
  },
  {
   "cell_type": "code",
   "execution_count": null,
   "id": "c5aea905-babb-4938-a1d3-d77bd44530dd",
   "metadata": {},
   "outputs": [],
   "source": []
  }
 ],
 "metadata": {
  "kernelspec": {
   "display_name": "JavaScript (Node.js)",
   "language": "javascript",
   "name": "javascript"
  },
  "language_info": {
   "file_extension": ".js",
   "mimetype": "application/javascript",
   "name": "javascript",
   "version": "20.8.1"
  }
 },
 "nbformat": 4,
 "nbformat_minor": 5
}
