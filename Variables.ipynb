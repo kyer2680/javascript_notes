{
 "cells": [
  {
   "cell_type": "markdown",
   "id": "c0d916dd-19b9-4820-9351-eac085527226",
   "metadata": {},
   "source": [
    "# Variables \n",
    "***"
   ]
  },
  {
   "cell_type": "markdown",
   "id": "e3b66f5a-a4b2-483e-80cc-fa8c0b981a39",
   "metadata": {},
   "source": [
    "__Variables:__ A container for storing values. A variable has a name and contains a value. You \"Store\" a variable in memory and it allows you to access, modify, and manipulate that value throughout your program. Variables allow us to write programs in a generic manner, allow us to modify data without needing to modify code structure."
   ]
  },
  {
   "cell_type": "markdown",
   "id": "3bb49e1d-0ad5-47ec-9c97-dde211026ddc",
   "metadata": {},
   "source": [
    "You can store many different data types in variables: Strings, Ints, booleans, floats, doubles, and more."
   ]
  },
  {
   "cell_type": "markdown",
   "id": "a1880c00-0a5e-4f80-a765-f82eed2f0d04",
   "metadata": {},
   "source": [
    "<br>"
   ]
  },
  {
   "cell_type": "markdown",
   "id": "e3e86e53-33ff-4709-ac18-9ff8ef3b64b9",
   "metadata": {},
   "source": [
    "# __Variable Declaration & Initialization__\n",
    "***"
   ]
  },
  {
   "cell_type": "markdown",
   "id": "1b6caf1a-cb98-492e-bc0d-ade3c32f4879",
   "metadata": {},
   "source": [
    "Variables can be declared & initialize at the same time or seperately, in order to utilize the variable, both must happen."
   ]
  },
  {
   "cell_type": "markdown",
   "id": "16e6cc0b-277e-49a6-9f12-99930a8e70eb",
   "metadata": {},
   "source": [
    "__Variable Declaration:__ This is the first step to creating a variable, it tells your program that we want to create a variable, in this step the variable has no value. Must declare with var, let or CONST keywords. Var is outdated, we do not use it, you will see it in legacy code as well as in code.org."
   ]
  },
  {
   "cell_type": "markdown",
   "id": "9888b571-dd0d-44dc-a4b0-b036c70d92ff",
   "metadata": {},
   "source": [
    "_Example:_ "
   ]
  },
  {
   "cell_type": "markdown",
   "id": "9d8dd997-06cb-495b-8df3-2255e6fe75f2",
   "metadata": {},
   "source": [
    "let age;\n",
    "\n",
    "var name;\n",
    "\n",
    "CONST birthday;"
   ]
  },
  {
   "cell_type": "markdown",
   "id": "79e3a6ae-b5f2-4199-9489-5427f9735c12",
   "metadata": {},
   "source": [
    "__Variable Initialization:__ This is where you give a variable a value for the first time. Variables must be declared before initialization."
   ]
  },
  {
   "cell_type": "markdown",
   "id": "53d6f8cc-f169-4c29-a126-fa42b0eff7ec",
   "metadata": {},
   "source": [
    "_Example:_\n",
    "\n",
    "age = 24;\n",
    "\n",
    "name = Cooper; \n",
    "\n",
    "birthday = 2000;"
   ]
  },
  {
   "cell_type": "markdown",
   "id": "aa322b3f-088f-4bdf-959c-2aa64c1869e0",
   "metadata": {},
   "source": [
    "__Variable Defiition:__ Variables can be declared and initialized at the same time. We call this <font color = red> \"Variable Definition\"."
   ]
  },
  {
   "cell_type": "markdown",
   "id": "f511ca65-6916-4d85-89e2-09f307030c15",
   "metadata": {},
   "source": [
    "_Example:_\n",
    "\n",
    "let age = 20;\n",
    "\n",
    "var name = \"Cooper\";\n",
    "\n",
    "CONST birthday = 2002;\n",
    "\n",
    "The equals sign is known as the assignment operator in most programming languages. You must use this to create variables."
   ]
  },
  {
   "cell_type": "markdown",
   "id": "2c90a8cb-4c2d-497b-950f-bd188146fcd9",
   "metadata": {},
   "source": [
    "# __Naming Variables__\n",
    "***"
   ]
  },
  {
   "cell_type": "markdown",
   "id": "e173a56e-4247-495e-bb69-4185a1fffebf",
   "metadata": {},
   "source": [
    "Variable names are extremely important, naming conventions vary between languages, here are some tips:"
   ]
  },
  {
   "cell_type": "markdown",
   "id": "aed80af0-b73f-4691-9f2d-d7e592582d37",
   "metadata": {},
   "source": [
    "1. Use descriptive names, that match the purpose of the variable\n",
    "2. Use CamelCase when writing multi-word variables (Javascript best practice)\n",
    "3. Avoid symbols, and \"reserved\" words, such as: let, for, if etc...\n",
    "<font color = red> Never put spaces in variables, a variable can never just be an integer"
   ]
  },
  {
   "cell_type": "markdown",
   "id": "69074352-f012-4b82-a492-c12168d4349b",
   "metadata": {},
   "source": [
    "<font color = blue> _Good Examples:_\n",
    "- let firstName: = \"Thomas\";\n",
    "- let numberOfLives = 9;\n",
    "- CONST temp = 98;\n",
    "- let messageOfTheDay = \"Hello there, welcome to CSP\";"
   ]
  },
  {
   "cell_type": "markdown",
   "id": "02a0e37c-9237-44da-96de-09a184e5a31e",
   "metadata": {},
   "source": [
    "<font color = blue> _Bad Examples:_\n",
    "\n",
    "- let 2 = 9;\n",
    "- let N!MA@ = \"John\";\n",
    "- let birthday month = \"December\";"
   ]
  },
  {
   "cell_type": "markdown",
   "id": "2c028b3c-12b7-4d5b-b122-9d3284d76ce0",
   "metadata": {},
   "source": [
    "<br>"
   ]
  },
  {
   "cell_type": "markdown",
   "id": "88c31344-422b-40c5-a4d2-9269487a067d",
   "metadata": {},
   "source": [
    "# __Using the console.log(); method with Variables__\n",
    "***"
   ]
  },
  {
   "cell_type": "markdown",
   "id": "0151fe03-8834-4145-9f92-40b222c8b55a",
   "metadata": {},
   "source": [
    "We can combine our previous knowledge of the console log method with variables to start to build actual programs. "
   ]
  },
  {
   "cell_type": "markdown",
   "id": "391c1430-50b9-4632-aa71-26df34187303",
   "metadata": {},
   "source": [
    "Lets start by defining a variable:"
   ]
  },
  {
   "cell_type": "code",
   "execution_count": 2,
   "id": "3bfeb9dd-cb09-4488-9d35-e7cbf1684d6a",
   "metadata": {},
   "outputs": [],
   "source": [
    "let parentsAgeO = 36;"
   ]
  },
  {
   "cell_type": "code",
   "execution_count": 3,
   "id": "7329ff69-26d1-435e-b608-fa0efb8b0442",
   "metadata": {},
   "outputs": [
    {
     "name": "stdout",
     "output_type": "stream",
     "text": [
      "36\n"
     ]
    }
   ],
   "source": [
    "console.log(parentsAgeO);"
   ]
  },
  {
   "cell_type": "markdown",
   "id": "6b750a8b-ab16-4a24-b0bc-c69d9104c6dd",
   "metadata": {},
   "source": [
    "See above, when you run the cell (Shift + Enter) the output is not the variable name, but the information stored inside the variable. Below are more examples:"
   ]
  },
  {
   "cell_type": "code",
   "execution_count": 5,
   "id": "b922ece6-98b2-4a2d-baa9-fd675c386309",
   "metadata": {},
   "outputs": [],
   "source": [
    "let birthdayCakeFlavor = \"chocolate\";"
   ]
  },
  {
   "cell_type": "code",
   "execution_count": 6,
   "id": "7181b861-3664-4672-95fe-c2f9cce03dc3",
   "metadata": {},
   "outputs": [
    {
     "name": "stdout",
     "output_type": "stream",
     "text": [
      "chocolate\n"
     ]
    }
   ],
   "source": [
    "console.log(birthdayCakeFlavor);"
   ]
  },
  {
   "cell_type": "markdown",
   "id": "0fe451ed-1006-46af-b9c7-0c2e356787c0",
   "metadata": {},
   "source": [
    "<br>"
   ]
  },
  {
   "cell_type": "markdown",
   "id": "652521f9-b3c9-4a5f-8db6-505d8d8c1d8b",
   "metadata": {},
   "source": [
    "# __Operators__\n",
    "***"
   ]
  },
  {
   "cell_type": "markdown",
   "id": "ffe01909-5e45-4bbd-96b7-5b8f69b37c52",
   "metadata": {},
   "source": [
    "Operators are crucial for writing programming language. Operatord are special symbols or keywords that can perform operations. Below are the most common types: "
   ]
  },
  {
   "cell_type": "markdown",
   "id": "cbcccbae-9c62-4911-87f4-12d0dfbb2796",
   "metadata": {},
   "source": [
    "__Arithmetic Operations:__ Used to perform basic math."
   ]
  },
  {
   "cell_type": "markdown",
   "id": "27c5c514-5288-4d2a-8455-edd2d6e9322b",
   "metadata": {},
   "source": [
    "<font color = blue> Example\n",
    "\n",
    "- +(Add)\n",
    "- -(subtract)\n",
    "- *(multiply)\n",
    "- /(Divide)\n",
    "- %(modulo)Example"
   ]
  },
  {
   "cell_type": "markdown",
   "id": "08789e2c-5cae-45b6-99d5-66e850a33b25",
   "metadata": {},
   "source": [
    "__Comparison Operators:__ Used to compare values."
   ]
  },
  {
   "cell_type": "markdown",
   "id": "05d54d70-b2a7-4818-b1e1-de8a8246abb4",
   "metadata": {},
   "source": [
    "<font color = blue> Example\n",
    "\n",
    "- ===(equal)\n",
    "- !=(not equal)\n",
    "- <(less than)\n",
    "- .>(greater than)\n",
    "- <=(less than or equal)\n",
    "- .>=(Greater than or equal)"
   ]
  },
  {
   "cell_type": "markdown",
   "id": "2a7f7431-7273-44df-9e1f-48eed6aa5ec6",
   "metadata": {},
   "source": [
    "__Logical Operators:__ Used to make decisions."
   ]
  },
  {
   "cell_type": "markdown",
   "id": "c80a3317-aaf6-491e-b43f-21a59a1733cc",
   "metadata": {},
   "source": [
    "<font color = blue> Example\n",
    "\n",
    "- &&(and)\n",
    "- ||(or)\n",
    "- !(Not)"
   ]
  },
  {
   "cell_type": "markdown",
   "id": "cc3dae66-ac55-45d9-b357-928ce41734f5",
   "metadata": {},
   "source": [
    "__Assignment Operations:__ Used in variables to assign value."
   ]
  },
  {
   "cell_type": "markdown",
   "id": "b4118c1e-0d31-47c7-8a07-9c68180c177e",
   "metadata": {},
   "source": [
    "<font color = blue> Example\n",
    "\n",
    "- =(Assign)\n",
    "- +=(Add and assign)\n",
    "- -=(Subtract and assign)"
   ]
  },
  {
   "cell_type": "markdown",
   "id": "9bbf9d0d-71b9-4590-821b-dcee4eb99446",
   "metadata": {},
   "source": [
    "__String Operations:__ Used to concatenate (combine) two strings."
   ]
  },
  {
   "cell_type": "markdown",
   "id": "9f6293e8-5b07-4860-874f-1049189a3afe",
   "metadata": {},
   "source": [
    "<font color = blue> Example\n",
    "- +(Concatenate)"
   ]
  },
  {
   "cell_type": "markdown",
   "id": "aaa11f6e-38bc-448b-a7af-7323f994dc9c",
   "metadata": {},
   "source": [
    "<br>"
   ]
  },
  {
   "cell_type": "markdown",
   "id": "6f659bf9-a684-49c2-a15e-e682f267fa97",
   "metadata": {},
   "source": [
    "# __Using Operators__\n",
    "***"
   ]
  },
  {
   "cell_type": "markdown",
   "id": "0106d7f5-6aac-4b05-8cf6-9e336509b4cf",
   "metadata": {},
   "source": [
    "Operators are simple to use within variables. They can be used outside of variables as well, but lets start by using them inside variables. We will use the same process as above, we will define a variable and then print to the console. However we will now utilize operators to make more complex variables."
   ]
  },
  {
   "cell_type": "code",
   "execution_count": 7,
   "id": "71a1b5d4-2b15-4ebf-b45d-a0cb04980ebd",
   "metadata": {},
   "outputs": [],
   "source": [
    "let areaOfRectangle = 4 * 5;"
   ]
  },
  {
   "cell_type": "code",
   "execution_count": 8,
   "id": "51a695ef-c06a-447a-89d2-60570023da93",
   "metadata": {},
   "outputs": [
    {
     "name": "stdout",
     "output_type": "stream",
     "text": [
      "20\n"
     ]
    }
   ],
   "source": [
    "console.log(areaOfRectangle);"
   ]
  },
  {
   "cell_type": "markdown",
   "id": "8e76d70b-b860-4192-8b71-7656c40dc4a8",
   "metadata": {},
   "source": [
    "We can use the concatentation (and the '+' operator) to make better print statements in the console. Note the space between the colon and the last quotation mark:"
   ]
  },
  {
   "cell_type": "code",
   "execution_count": 9,
   "id": "e6725362-9eac-4f84-a82e-20d67f701c62",
   "metadata": {},
   "outputs": [],
   "source": [
    "let areaOfSquare = 7 * 7;"
   ]
  },
  {
   "cell_type": "code",
   "execution_count": 11,
   "id": "c3665cd0-00e1-4cce-b920-07de960b3877",
   "metadata": {},
   "outputs": [
    {
     "name": "stdout",
     "output_type": "stream",
     "text": [
      "The area of a 7 inch square is: 49\n"
     ]
    }
   ],
   "source": [
    "console.log('The area of a 7 inch square is: ' + areaOfSquare);"
   ]
  },
  {
   "cell_type": "markdown",
   "id": "59de67f2-5771-4388-a176-63115d655e12",
   "metadata": {},
   "source": [
    "You can concatenate words too, however lets examine what happens:"
   ]
  },
  {
   "cell_type": "code",
   "execution_count": 16,
   "id": "d1f164af-d3b7-4139-ac7a-0ad1933281ba",
   "metadata": {},
   "outputs": [],
   "source": [
    "let firstName = \"John\";"
   ]
  },
  {
   "cell_type": "code",
   "execution_count": 13,
   "id": "31aa017e-7bc6-43e3-bfaf-eccf0b588d55",
   "metadata": {},
   "outputs": [],
   "source": [
    "let lastName = \"Doe\";"
   ]
  },
  {
   "cell_type": "code",
   "execution_count": 17,
   "id": "e16d4d06-46bb-4ca3-be2c-88239e34106a",
   "metadata": {},
   "outputs": [
    {
     "name": "stdout",
     "output_type": "stream",
     "text": [
      "His name is JohnDoe\n"
     ]
    }
   ],
   "source": [
    "console.log(\"His name is \" + firstName + lastName);"
   ]
  },
  {
   "cell_type": "markdown",
   "id": "2991dd3a-738f-467e-a8f5-90ce468b1c1b",
   "metadata": {},
   "source": [
    "We are missing a space between first name and last name. We can fix this by adding a blank space, using an empty set of quotes, make sure you put a space between quotes:"
   ]
  },
  {
   "cell_type": "code",
   "execution_count": 18,
   "id": "5768881d-094b-46d8-a773-7e2504a1b7ba",
   "metadata": {},
   "outputs": [
    {
     "name": "stdout",
     "output_type": "stream",
     "text": [
      "His name is John Doe\n"
     ]
    }
   ],
   "source": [
    "console.log(\"His name is \" + firstName + \" \" + lastName);"
   ]
  },
  {
   "cell_type": "markdown",
   "id": "7d3695e6-430b-4abe-8a64-05f7ea3a552a",
   "metadata": {},
   "source": [
    "We can also use operators on variables. For instance we will use the equality operator to see if the 2 variables are equal. It will return true or false;"
   ]
  },
  {
   "cell_type": "code",
   "execution_count": 19,
   "id": "4ad8cc4a-3788-40d2-bd13-4f8cc4b3162c",
   "metadata": {},
   "outputs": [],
   "source": [
    "let trainTicketValue = 5;\n",
    "let trainNumber = 4;"
   ]
  },
  {
   "cell_type": "code",
   "execution_count": 20,
   "id": "1c31ab1f-513c-4a63-8741-886897500bf5",
   "metadata": {},
   "outputs": [
    {
     "name": "stdout",
     "output_type": "stream",
     "text": [
      "false\n"
     ]
    }
   ],
   "source": [
    "console.log(trainTicketValue == trainNumber);"
   ]
  },
  {
   "cell_type": "markdown",
   "id": "7f660844-5bbb-4f52-bd67-80f172639c02",
   "metadata": {},
   "source": [
    "<br>"
   ]
  },
  {
   "cell_type": "markdown",
   "id": "430d0b36-820a-4a02-a42a-796d71649b41",
   "metadata": {},
   "source": [
    "# __Changing Variable Assignments__\n",
    "***"
   ]
  },
  {
   "cell_type": "markdown",
   "id": "d59bab04-6077-4cbc-a226-3d5c0c73ffb0",
   "metadata": {},
   "source": [
    "Variables defined with let and var can be changed. CONST variables cannot be changed. In the example below we set the variable to a value, then change it. Notice the output takes the last value. IT does not mean that the variable was not the initial value, you just are printing the last value because the program is executing in a procedural step by step manner. Notice that when we mutate the variable we dont use the declaration keyword again. __NOTE:__ In Jupyter, mutating (changing) a variable name will print it out, This is not __NOT__ the case in other IDE's, you will only see output when logging to the console."
   ]
  },
  {
   "cell_type": "code",
   "execution_count": 21,
   "id": "ade02a8e-b187-4a7c-9298-bafd3593237a",
   "metadata": {},
   "outputs": [
    {
     "data": {
      "text/plain": [
       "10"
      ]
     },
     "execution_count": 21,
     "metadata": {},
     "output_type": "execute_result"
    }
   ],
   "source": [
    "let numberOfCows = 10;\n",
    "numOfCows = 5;\n",
    "numOfCows = 10;"
   ]
  },
  {
   "cell_type": "code",
   "execution_count": 22,
   "id": "a0378fee-15e0-4a90-8951-d522d94e62a4",
   "metadata": {},
   "outputs": [
    {
     "data": {
      "text/plain": [
       "'Im a crow'"
      ]
     },
     "execution_count": 22,
     "metadata": {},
     "output_type": "execute_result"
    }
   ],
   "source": [
    "let murderOfCrows = 5 + 5;\n",
    "murderOfCrows = 1000000 * 7;\n",
    "murderOfCrows = \"Im a crow\";"
   ]
  },
  {
   "cell_type": "code",
   "execution_count": 23,
   "id": "79d47cbb-0d4b-4dce-9ca0-276124e3f341",
   "metadata": {},
   "outputs": [
    {
     "name": "stdout",
     "output_type": "stream",
     "text": [
      "Im a crow\n"
     ]
    }
   ],
   "source": [
    "console.log(murderOfCrows);"
   ]
  },
  {
   "cell_type": "code",
   "execution_count": null,
   "id": "b43bc131-e756-4506-a87e-0295bfad78e6",
   "metadata": {},
   "outputs": [],
   "source": []
  }
 ],
 "metadata": {
  "kernelspec": {
   "display_name": "JavaScript (Node.js)",
   "language": "javascript",
   "name": "javascript"
  },
  "language_info": {
   "file_extension": ".js",
   "mimetype": "application/javascript",
   "name": "javascript",
   "version": "20.8.1"
  }
 },
 "nbformat": 4,
 "nbformat_minor": 5
}
