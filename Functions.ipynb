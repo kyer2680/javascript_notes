{
 "cells": [
  {
   "cell_type": "markdown",
   "id": "90511452-aaa0-4985-9b6f-b3f2bc1eb430",
   "metadata": {},
   "source": [
    "# Functions In Javascript\n",
    "***"
   ]
  },
  {
   "cell_type": "markdown",
   "id": "1cc818f3-56bd-4582-9609-e6ce2a1022da",
   "metadata": {},
   "source": [
    "Documentation located here."
   ]
  },
  {
   "cell_type": "markdown",
   "id": "d446a2b0-21b4-4a6d-b7aa-6efc62cd8f3d",
   "metadata": {},
   "source": [
    "<br>"
   ]
  },
  {
   "cell_type": "markdown",
   "id": "eeec9095-2818-40b3-9726-08ba039237a2",
   "metadata": {},
   "source": [
    "__Functions:__ Functions are one of the fundamental building blocks in JavaScript. A function in JavaScript is similar to a procedure- a set of statements that performs a task or calculates a value, but for a procedure to oqualify as a function, it should take some input and return an output. Functions are repeatable lines of code that make our programs neater and easier to read and run."
   ]
  },
  {
   "cell_type": "markdown",
   "id": "e8fbe3d6-6752-49a6-895b-1f905c721f4d",
   "metadata": {},
   "source": [
    "<br>"
   ]
  },
  {
   "cell_type": "markdown",
   "id": "f490263c-3f58-4467-810c-7cfeacd7b025",
   "metadata": {},
   "source": [
    "# Defining Functions\n",
    "***"
   ]
  },
  {
   "cell_type": "markdown",
   "id": "61f8c7ed-5db8-4f38-9a2c-4fc9c131a7e1",
   "metadata": {},
   "source": [
    "In JavaScript, in order to create a function there is a syntax that we use. There are multiple ways to create functions in Javascript, we will talk about 2 different ways below. "
   ]
  },
  {
   "cell_type": "markdown",
   "id": "706027a0-e215-4b07-ada2-bce5203f7499",
   "metadata": {},
   "source": [
    "__Function Declarations:__"
   ]
  },
  {
   "cell_type": "markdown",
   "id": "a71459ec-ce09-4824-a5ac-5f736defa4b3",
   "metadata": {},
   "source": [
    "A function definition (also called a function declaration, or function statemens) consists of the function keyword, followed by:"
   ]
  },
  {
   "cell_type": "markdown",
   "id": "997ee502-b1b4-4b31-8ed6-b4573a782969",
   "metadata": {},
   "source": [
    "1. The name of the function.\n",
    "2. A list of parameters to the function, enclosed in parentheses and seperated commas.\n",
    "3. The javaScript statements that define the function, enclosed in curly braces. {/* ... */}."
   ]
  },
  {
   "cell_type": "markdown",
   "id": "214982eb-d18a-4088-bee5-80e0937f0946",
   "metadata": {},
   "source": [
    "<font color = \"blue\">Example:</font> "
   ]
  },
  {
   "cell_type": "code",
   "execution_count": 1,
   "id": "ade38976-03ec-421d-aa76-c72e07f095fb",
   "metadata": {},
   "outputs": [],
   "source": [
    "function square(number){\n",
    "    return number * number;\n",
    "}"
   ]
  },
  {
   "cell_type": "markdown",
   "id": "a51e2e70-961f-4e4a-a867-755e34f432e0",
   "metadata": {},
   "source": [
    "In the example above the function called square takes a single parameter, which is the word enclosed in paranthesis. The function then utilizes the return keyword to pass the result of the parameter out of the function."
   ]
  },
  {
   "cell_type": "markdown",
   "id": "e68bf3ee-7047-48bb-828f-ccdd116d87ec",
   "metadata": {},
   "source": [
    "__Parameter:__ A parameter in programming is a named variable used only in a function or method <font color = \"red\">definition.</font> It acts like a variable and holds the values <font color = \"red\">passed</font> to the function when its <font color = \"red\">called.</font> "
   ]
  },
  {
   "cell_type": "markdown",
   "id": "3d7bf1dc-c847-4717-983c-7825d10aab2a",
   "metadata": {},
   "source": [
    "__Return:__ A return statement in a function is an optional statement that exists the function and returns a value to the program, outside of the blovk of the function. Any code following the return statements is _not_ executed. If a function doesn't have a return statement, or if no return value is specified, the function returns as _undefined_"
   ]
  },
  {
   "cell_type": "code",
   "execution_count": 6,
   "id": "37522248-925f-4588-a1e2-a8d6b633cab2",
   "metadata": {},
   "outputs": [],
   "source": [
    "function sum(a, b){\n",
    "    return a +b ;\n",
    "8\n",
    "}"
   ]
  },
  {
   "cell_type": "markdown",
   "id": "ee042e6a-fbd0-4777-9820-463b29f0cbb6",
   "metadata": {},
   "source": [
    "In the function abpve we are utilizing 2 parameters and simply adding 2 numbers. A and B. We are then returning the value out of the function. However please note that functions need to have more than a definition which is seen above. We now need to _call_ the function, in order to utilize it is 8."
   ]
  },
  {
   "cell_type": "markdown",
   "id": "92f6f323-4aa6-4b43-b113-527d4b042be8",
   "metadata": {},
   "source": [
    ">"
   ]
  },
  {
   "cell_type": "markdown",
   "id": "4c2706cd-000c-4388-8216-cadadd2a2789",
   "metadata": {},
   "source": [
    "# Calling a Function\n",
    "***"
   ]
  },
  {
   "cell_type": "markdown",
   "id": "7663e722-2cea-4335-922a-0367416b9c6a",
   "metadata": {},
   "source": [
    "__Function Call:__ A function call is when you _call_ or use the function you have created. Note that when you create a function it does not need to be used right away in a procedural order. You can create it and use it whenever you need, as many times as needed. Before calling the function you must define it in the steps above. The syntax for calling a function is below, we are using the function definition from the sum function we created above. Note that we are using something called <font color = \"red\">arguments</font> in a function call."
   ]
  },
  {
   "cell_type": "markdown",
   "id": "e8f3f6d6-30ae-4949-993a-921350338058",
   "metadata": {},
   "source": [
    "__Argument:__ An argument is the value we input in the function call that is passed through the function via parameters. In other words the value of arguments are inputed and become the value of parameters in the function definition, much like how you assaign a variable a value. __The position of arguments matter, the arguments fill in the parameters in the order in which they are written.__"
   ]
  },
  {
   "cell_type": "markdown",
   "id": "0d51807c-6dd2-4c86-83be-851b9241a30d",
   "metadata": {},
   "source": [
    "<font color = \"blue\">Syntax:</font>"
   ]
  },
  {
   "cell_type": "markdown",
   "id": "bbb623f5-a4dc-4028-bdbd-385b89197d02",
   "metadata": {},
   "source": [
    "function_name (arguments);"
   ]
  },
  {
   "cell_type": "markdown",
   "id": "9abd6369-6949-4930-a0ee-c7ca157342d5",
   "metadata": {},
   "source": [
    "<font color = \"blue\">Example:</font>"
   ]
  },
  {
   "cell_type": "code",
   "execution_count": 8,
   "id": "ae72b473-9344-4e59-8ad9-3f744b57bd1a",
   "metadata": {},
   "outputs": [
    {
     "ename": "ReferenceError",
     "evalue": "sum is not defined",
     "execution_count": 8,
     "output_type": "error",
     "traceback": [
      "evalmachine.<anonymous>:1",
      "sum(3, 5);",
      "^",
      "",
      "ReferenceError: sum is not defined",
      "    at evalmachine.<anonymous>:1:1",
      "    at Script.runInThisContext (node:vm:122:12)",
      "    at Object.runInThisContext (node:vm:296:38)",
      "    at run ([eval]:1020:15)",
      "    at onRunRequest ([eval]:864:18)",
      "    at onMessage ([eval]:828:13)",
      "    at process.emit (node:events:514:28)",
      "    at emit (node:internal/child_process:951:14)",
      "    at process.processTicksAndRejections (node:internal/process/task_queues:83:21)"
     ]
    }
   ],
   "source": [
    "sum(3, 5); "
   ]
  },
  {
   "cell_type": "markdown",
   "id": "858119b4-f945-4967-8cdd-cd879fe47f29",
   "metadata": {},
   "source": [
    "Here is how we can _call_ the square function we defined before in our notes."
   ]
  },
  {
   "cell_type": "markdown",
   "id": "d1eb8138-b7dc-4bad-a68f-79418968575a",
   "metadata": {},
   "source": [
    "<font color = \"blue\">Example:</font>"
   ]
  },
  {
   "cell_type": "code",
   "execution_count": 4,
   "id": "8b0054d1-e58e-4342-9204-826a80323ddf",
   "metadata": {},
   "outputs": [
    {
     "ename": "ReferenceError",
     "evalue": "square is not defined",
     "execution_count": 4,
     "output_type": "error",
     "traceback": [
      "evalmachine.<anonymous>:1",
      "square(5);",
      "^",
      "",
      "ReferenceError: square is not defined",
      "    at evalmachine.<anonymous>:1:1",
      "    at Script.runInThisContext (node:vm:122:12)",
      "    at Object.runInThisContext (node:vm:296:38)",
      "    at run ([eval]:1020:15)",
      "    at onRunRequest ([eval]:864:18)",
      "    at onMessage ([eval]:828:13)",
      "    at process.emit (node:events:514:28)",
      "    at emit (node:internal/child_process:951:14)",
      "    at process.processTicksAndRejections (node:internal/process/task_queues:83:21)"
     ]
    }
   ],
   "source": [
    "square(5);"
   ]
  },
  {
   "cell_type": "markdown",
   "id": "e9b8c873-c897-4c32-a075-90949d1dbe3c",
   "metadata": {},
   "source": [
    "<font color = \"blue\">Syntax:</font>"
   ]
  },
  {
   "cell_type": "markdown",
   "id": "a83862cb-aabb-42cd-b833-644d055c0327",
   "metadata": {},
   "source": [
    "<br>"
   ]
  },
  {
   "cell_type": "markdown",
   "id": "dbcab5e5-a215-42f8-acd6-c995f565baff",
   "metadata": {},
   "source": [
    "# Function Definitions and Calls\n",
    "***"
   ]
  },
  {
   "cell_type": "markdown",
   "id": "fd33907b-40c2-45ad-a0fe-8644ef9bbe18",
   "metadata": {},
   "source": [
    "We always utilize function definitions, calls, parameters, return and arguments together.\n",
    "Parameters, return statements and arguments are always optional. Below are some example\n",
    "are simple functions with their definitions and calls. __Note that Jupyter Lab will print these\n",
    "functions by default. You must create print statements / variables to actually see\n",
    "results of your functions in regular JS.__"
   ]
  },
  {
   "cell_type": "markdown",
   "id": "f7b14cea-ef5e-4092-a39e-024c93814746",
   "metadata": {},
   "source": [
    "<font color = \"blue\">Examples:</font> "
   ]
  },
  {
   "cell_type": "code",
   "execution_count": 1,
   "id": "c4b1e146-54f3-458e-b70b-f5511670fa30",
   "metadata": {},
   "outputs": [
    {
     "name": "stdout",
     "output_type": "stream",
     "text": [
      "Hello there Cooper\n"
     ]
    }
   ],
   "source": [
    "function greet(name) {\n",
    "console.log(\"Hello there \" + name);\n",
    "}\n",
    "greet(\"Cooper\");"
   ]
  },
  {
   "cell_type": "code",
   "execution_count": 2,
   "id": "2a253212-181b-4ecb-80bf-f2022417b8e3",
   "metadata": {},
   "outputs": [
    {
     "name": "stdout",
     "output_type": "stream",
     "text": [
      "33\n"
     ]
    }
   ],
   "source": [
    "function ageFinder(dateOfBirth, currentYear) {\n",
    "let age = currentYear - dateOfBirth;\n",
    "return age;\n",
    "}\n",
    "console.log(ageFinder(1990, 2023));"
   ]
  },
  {
   "cell_type": "markdown",
   "id": "57b18509-7281-488b-91d7-bdfe2c8f9844",
   "metadata": {},
   "source": [
    "<br>"
   ]
  },
  {
   "cell_type": "markdown",
   "id": "251b6c4f-72b2-4f66-b7ee-789fcb802dea",
   "metadata": {},
   "source": [
    "# __Returning vs. console.Log() in Functions__\n",
    "***"
   ]
  },
  {
   "cell_type": "markdown",
   "id": "e47f60fe-ab79-4eef-8105-ff179ac07988",
   "metadata": {},
   "source": [
    "Often when starting out we will only need to display the value of the result of the function.\n",
    "We can do this by simply logging the value to the console. However this is often not\n",
    "sufficient for programs. A printed value can only be used in the block, the problem will pop\n",
    "up when trying to use function values elsewhere. Lets take a look at this using a function\n",
    "below."
   ]
  },
  {
   "cell_type": "markdown",
   "id": "305d35e6-ab9f-4868-b556-49e0f839114a",
   "metadata": {},
   "source": [
    "<font color = \"blue\">Example:</font> "
   ]
  },
  {
   "cell_type": "code",
   "execution_count": 4,
   "id": "92036c50-b227-4332-9c9b-635ef5da65fe",
   "metadata": {},
   "outputs": [
    {
     "name": "stdout",
     "output_type": "stream",
     "text": [
      "10\n",
      "NaN\n"
     ]
    }
   ],
   "source": [
    "function printTen() {\n",
    "console.log(10);\n",
    "}\n",
    "let value = printTen();\n",
    "console.log(value * 2);"
   ]
  },
  {
   "cell_type": "markdown",
   "id": "3856cfc3-01e9-4e1e-b615-882f9c5adaaa",
   "metadata": {},
   "source": [
    "When we try to use the value from the function we will recieve an error, this is because the\n",
    "value is printed and not returned . If I wanted to use the value from the function\n",
    "elsewhere, then we run into problems. The way we can fix this is by returning values."
   ]
  },
  {
   "cell_type": "markdown",
   "id": "5ee43d38-885b-47d5-bdb4-fed16cfc015d",
   "metadata": {},
   "source": [
    "<font color = \"blue\">Example:</font> "
   ]
  },
  {
   "cell_type": "code",
   "execution_count": 5,
   "id": "7f7f0d36-e2dd-4f36-bef9-d9f3285b682a",
   "metadata": {},
   "outputs": [
    {
     "name": "stdout",
     "output_type": "stream",
     "text": [
      "20\n"
     ]
    }
   ],
   "source": [
    "function returnTen() {\n",
    "return 10;\n",
    "}\n",
    "returnTen();\n",
    "let returnedValue = returnTen();\n",
    "console.log(returnedValue * 2);"
   ]
  },
  {
   "cell_type": "markdown",
   "id": "25f8cc19-fd46-4ed7-aead-c91b0a309193",
   "metadata": {},
   "source": [
    "<br>"
   ]
  },
  {
   "cell_type": "markdown",
   "id": "910114c3-871f-4d66-9885-620e9d7cc08b",
   "metadata": {},
   "source": [
    "# __Arrow Functions (A cleaner way of writing functions)__\n",
    "***"
   ]
  },
  {
   "cell_type": "markdown",
   "id": "47007a53-1146-4754-8a0d-2f61e3a881d6",
   "metadata": {},
   "source": [
    "An arrow function is a more concise and cleaner way to write functions."
   ]
  },
  {
   "cell_type": "markdown",
   "id": "eab7e213-0e09-4874-99f1-1f632861cfa9",
   "metadata": {},
   "source": [
    "<font color = \"blue\">Example:</font> "
   ]
  },
  {
   "cell_type": "code",
   "execution_count": 7,
   "id": "ceade6c1-9e0a-4af7-a8d9-38eb7ea91695",
   "metadata": {},
   "outputs": [],
   "source": [
    "const square = (number) => {\n",
    "return number * number;\n",
    "}"
   ]
  },
  {
   "cell_type": "markdown",
   "id": "e7cf0f55-3006-47fc-9c56-9a76f15347f0",
   "metadata": {},
   "source": [
    "1. The name of the function is preceded by a variable keyword (let or const), then choose a\n",
    "name.\n",
    "2. The parameters are listed in the parenthesis, if no parameters are needed you must\n",
    "include the parethesis still.\n",
    "3. Use an arrow => and open curly braces.\n",
    "4. Input code to execute in the block."
   ]
  },
  {
   "cell_type": "code",
   "execution_count": null,
   "id": "5e872197-fd4a-44c3-a655-625adb49051b",
   "metadata": {},
   "outputs": [],
   "source": []
  }
 ],
 "metadata": {
  "kernelspec": {
   "display_name": "JavaScript (Node.js)",
   "language": "javascript",
   "name": "javascript"
  },
  "language_info": {
   "file_extension": ".js",
   "mimetype": "application/javascript",
   "name": "javascript",
   "version": "20.8.1"
  }
 },
 "nbformat": 4,
 "nbformat_minor": 5
}
